{
 "cells": [
  {
   "cell_type": "markdown",
   "metadata": {},
   "source": [
    "# Quick Sort"
   ]
  },
  {
   "cell_type": "code",
   "execution_count": 1,
   "metadata": {},
   "outputs": [
    {
     "name": "stdout",
     "output_type": "stream",
     "text": [
      "[34, 93, 19, 58, 12, 28, 95, 37, 23, 80, 57, 82, 55, 48, 21, 39, 53, 65, 30, 32, 84, 64, 44, 68, 36]\n",
      "[12, 19, 21, 23, 28, 30, 32, 34, 36, 37, 39, 44, 48, 53, 55, 57, 58, 64, 65, 68, 80, 82, 84, 93, 95]\n"
     ]
    }
   ],
   "source": [
    "miLista = [34,93,19,58,12,28,95,37,23,80,57,82,55,48,21,39,53,65,30,32,84,64,44,68,36]\n",
    "\n",
    "def sort(lista):\n",
    "    izquierda = []\n",
    "    centro = []\n",
    "    derecha = []\n",
    "    if len(lista) > 1:\n",
    "        pivote = lista[0]\n",
    "        for i in lista:\n",
    "            if i < pivote:\n",
    "                izquierda.append(i)\n",
    "            elif i == pivote:\n",
    "                centro.append(i)\n",
    "            elif i > pivote:\n",
    "                derecha.append(i)\n",
    "        #print(izquierda+[\"-\"]+centro+[\"-\"]+derecha)\n",
    "        return sort(izquierda)+centro+sort(derecha)\n",
    "    else:\n",
    "      return lista\n",
    "\n",
    "print(miLista)\n",
    "print(sort(miLista))"
   ]
  }
 ],
 "metadata": {
  "kernelspec": {
   "display_name": "Python 3",
   "language": "python",
   "name": "python3"
  },
  "language_info": {
   "codemirror_mode": {
    "name": "ipython",
    "version": 3
   },
   "file_extension": ".py",
   "mimetype": "text/x-python",
   "name": "python",
   "nbconvert_exporter": "python",
   "pygments_lexer": "ipython3",
   "version": "3.6.7"
  }
 },
 "nbformat": 4,
 "nbformat_minor": 2
}
