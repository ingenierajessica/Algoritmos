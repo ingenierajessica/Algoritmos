{
 "cells": [
  {
   "cell_type": "code",
   "execution_count": 3,
   "metadata": {},
   "outputs": [
    {
     "name": "stdout",
     "output_type": "stream",
     "text": [
      "['A', 'B', 'D', 'E', 'F', 'C']\n"
     ]
    }
   ],
   "source": [
    "# Using a Python dictionary to act as an adjacency list\n",
    "graph = {\n",
    "    'A' : ['B','C'],\n",
    "    'B' : ['D', 'E'],\n",
    "    'C' : ['F'],\n",
    "    'D' : [],\n",
    "    'E' : ['F'],\n",
    "    'F' : []\n",
    "}\n",
    "def dfs(graph, node):\n",
    "    visited = [node]\n",
    "    stack = [node]\n",
    "    while stack:\n",
    "        node = stack[-1]\n",
    "        if node not in visited:\n",
    "            visited.extend(node)\n",
    "        remove_from_stack = True\n",
    "        for next in graph[node]:\n",
    "            if next not in visited:\n",
    "                stack.extend(next)\n",
    "                remove_from_stack = False\n",
    "                break\n",
    "        if remove_from_stack:\n",
    "            stack.pop()\n",
    "    return visited\n",
    "\n",
    "print (dfs(graph, 'A'))"
   ]
  },
  {
   "cell_type": "code",
   "execution_count": null,
   "metadata": {},
   "outputs": [],
   "source": []
  }
 ],
 "metadata": {
  "kernelspec": {
   "display_name": "Python 3",
   "language": "python",
   "name": "python3"
  }
 },
 "nbformat": 4,
 "nbformat_minor": 2
}
