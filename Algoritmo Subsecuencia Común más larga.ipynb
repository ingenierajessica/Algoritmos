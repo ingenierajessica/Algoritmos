{
 "cells": [
  {
   "cell_type": "code",
   "execution_count": 18,
   "metadata": {},
   "outputs": [
    {
     "name": "stdout",
     "output_type": "stream",
     "text": [
      "(0, 'aa')\n"
     ]
    }
   ],
   "source": [
    "# Longest Common Subsequence\n",
    "\n",
    "def lcs(s1, s2):\n",
    "    matrix = [ [0 for x in range(len(s2))] for x in range(len(s1)) ]\n",
    "    cs = \"\"\n",
    "    for i in range(len(s1)):\n",
    "        for j in range(len(s2)):\n",
    "            if s1[i]==s2[j]:\n",
    "                if i==0 or j==0:\n",
    "                    matrix[i][j] = 1\n",
    "                    cs += s1[i]\n",
    "                else:\n",
    "                    matrix[i][j] = matrix[i-1][j-1] + 1\n",
    "                cs += s1[i]\n",
    "            else:\n",
    "                if i==0 or j==0:\n",
    "                    matrix[i][j] = 0\n",
    "                else:\n",
    "                    matrix[i][j] = max(matrix[i-1][j], matrix[i][j-1])\n",
    "\n",
    "            return matrix[len(s1)-1][len(s2)-1], cs\n",
    "\n",
    "\n",
    "print(lcs(\"abcdaf\", \"acbcf\"))"
   ]
  }
 ],
 "metadata": {
  "kernelspec": {
   "display_name": "Python 3",
   "language": "python",
   "name": "python3"
  },
  "language_info": {
   "codemirror_mode": {
    "name": "ipython",
    "version": 3
   },
   "file_extension": ".py",
   "mimetype": "text/x-python",
   "name": "python",
   "nbconvert_exporter": "python",
   "pygments_lexer": "ipython3",
   "version": "3.6.7"
  }
 },
 "nbformat": 4,
 "nbformat_minor": 2
}
