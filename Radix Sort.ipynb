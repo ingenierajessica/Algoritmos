{
 "cells": [
  {
   "cell_type": "code",
   "execution_count": 1,
   "metadata": {},
   "outputs": [
    {
     "ename": "IndentationError",
     "evalue": "unexpected indent (<ipython-input-1-2787604f8371>, line 6)",
     "output_type": "error",
     "traceback": [
      "\u001b[1;36m  File \u001b[1;32m\"<ipython-input-1-2787604f8371>\"\u001b[1;36m, line \u001b[1;32m6\u001b[0m\n\u001b[1;33m    counts[get_index(a)] += 1\u001b[0m\n\u001b[1;37m    ^\u001b[0m\n\u001b[1;31mIndentationError\u001b[0m\u001b[1;31m:\u001b[0m unexpected indent\n"
     ]
    }
   ],
   "source": [
    "def counting_sort(arr, max_value, get_index):\n",
    "  counts = [0] * max_value\n",
    "\n",
    "  # Counting - O(n)\n",
    "  for a in arr:s\n",
    "    counts[get_index(a)] += 1\n",
    "  \n",
    "  # Accumulating - O(k)\n",
    "  for i, c in enumerate(counts):\n",
    "    if i == 0:\n",
    "      continue\n",
    "    else:\n",
    "      counts[i] += counts[i-1]\n",
    "\n",
    "  # Calculating start index - O(k)\n",
    "  for i, c in enumerate(counts[:-1]):\n",
    "    if i == 0:\n",
    "      counts[i] = 0\n",
    "    counts[i+1] = c\n",
    "\n",
    "  ret = [None] * len(arr)\n",
    "  # Sorting - O(n)\n",
    "  for a in arr:\n",
    "    index = counts[get_index(a)]\n",
    "    ret[index] = a\n",
    "    counts[get_index(a)] += 1\n",
    "  \n",
    "  return ret"
   ]
  },
  {
   "cell_type": "code",
   "execution_count": null,
   "metadata": {},
   "outputs": [],
   "source": []
  }
 ],
 "metadata": {
  "kernelspec": {
   "display_name": "Python 3",
   "language": "python",
   "name": "python3"
  }
 },
 "nbformat": 4,
 "nbformat_minor": 2
}
